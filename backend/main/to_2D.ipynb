{
 "cells": [
  {
   "cell_type": "code",
   "execution_count": 2,
   "id": "59ed95f8",
   "metadata": {},
   "outputs": [
    {
     "name": "stdout",
     "output_type": "stream",
     "text": [
      "Successfully converted geometries to 2D for table: kapsiwon_features\n",
      "Failed to convert geometries to 2D for table: kapsiwon_points. Error: Geometry type (Point) does not match column type (MultiPolygon)\n",
      "\n",
      "Successfully converted geometries to 2D for table: mokong\n",
      "Successfully converted geometries to 2D for table: mokong_features\n",
      "Failed to convert geometries to 2D for table: mokong_points. Error: Geometry type (Point) does not match column type (MultiPolygon)\n",
      "\n",
      "Successfully converted geometries to 2D for table: taito\n",
      "Successfully converted geometries to 2D for table: taito_features\n",
      "Failed to convert geometries to 2D for table: taito_points. Error: Geometry type (Point) does not match column type (MultiPolygon)\n",
      "\n"
     ]
    }
   ],
   "source": [
    "import psycopg2\n",
    "from psycopg2 import sql\n",
    "\n",
    "# List of tables to update\n",
    "tables = ['kapsiwon_features', 'mokong', 'mokong_features','taito','taito_features']  # Replace with your table names\n",
    "\n",
    "# Database connection parameters\n",
    "db_params = {\n",
    "    'dbname': 'main_db',\n",
    "    'user': 'postgres',\n",
    "    'password': 'smug5961',\n",
    "    'host': 'localhost',\n",
    "    'port': '5432',\n",
    "}\n",
    "\n",
    "def convert_geometries_to_2d(table_name, conn):\n",
    "    with conn.cursor() as cursor:\n",
    "        try:\n",
    "            # Step 1: Create a temporary column to store 2D geometries\n",
    "            cursor.execute(\n",
    "                sql.SQL(\"ALTER TABLE {} ADD COLUMN geom_temp geometry(MultiPolygon, 4326)\").format(sql.Identifier(table_name))\n",
    "            )\n",
    "\n",
    "            # Step 2: Convert existing geometries to 2D and store them in the temporary column\n",
    "            cursor.execute(\n",
    "                sql.SQL(\"UPDATE {} SET geom_temp = ST_Force2D(geom)\").format(sql.Identifier(table_name))\n",
    "            )\n",
    "\n",
    "            # Step 3: Drop the original column\n",
    "            cursor.execute(\n",
    "                sql.SQL(\"ALTER TABLE {} DROP COLUMN geom\").format(sql.Identifier(table_name))\n",
    "            )\n",
    "\n",
    "            # Step 4: Rename the temporary column to the original column name\n",
    "            cursor.execute(\n",
    "                sql.SQL(\"ALTER TABLE {} RENAME COLUMN geom_temp TO geom\").format(sql.Identifier(table_name))\n",
    "            )\n",
    "\n",
    "            # Step 5: Recreate the spatial index (if necessary)\n",
    "            # cursor.execute(\n",
    "              #  sql.SQL(\"CREATE INDEX IF NOT EXISTS idx_{}_geom ON {} USING gist (geom)\").format(sql.Identifier(table_name), sql.Identifier(table_name))\n",
    "            # )\n",
    "\n",
    "            # Commit the transaction\n",
    "            conn.commit()\n",
    "            print(f\"Successfully converted geometries to 2D for table: {table_name}\")\n",
    "\n",
    "        except Exception as e:\n",
    "            conn.rollback()\n",
    "            print(f\"Failed to convert geometries to 2D for table: {table_name}. Error: {e}\")\n",
    "\n",
    "def main():\n",
    "    try:\n",
    "        # Connect to the database\n",
    "        conn = psycopg2.connect(**db_params)\n",
    "        for table in tables:\n",
    "            convert_geometries_to_2d(table, conn)\n",
    "        conn.close()\n",
    "\n",
    "    except Exception as e:\n",
    "        print(f\"Error connecting to the database: {e}\")\n",
    "\n",
    "if __name__ == \"__main__\":\n",
    "    main()\n"
   ]
  },
  {
   "cell_type": "code",
   "execution_count": null,
   "id": "0e162141",
   "metadata": {},
   "outputs": [],
   "source": []
  }
 ],
 "metadata": {
  "kernelspec": {
   "display_name": "explore_env",
   "language": "python",
   "name": "explore_env"
  },
  "language_info": {
   "codemirror_mode": {
    "name": "ipython",
    "version": 3
   },
   "file_extension": ".py",
   "mimetype": "text/x-python",
   "name": "python",
   "nbconvert_exporter": "python",
   "pygments_lexer": "ipython3",
   "version": "3.12.3"
  }
 },
 "nbformat": 4,
 "nbformat_minor": 5
}
